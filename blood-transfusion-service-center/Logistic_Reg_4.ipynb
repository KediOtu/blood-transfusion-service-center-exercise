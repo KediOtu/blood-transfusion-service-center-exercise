{
 "cells": [
  {
   "cell_type": "code",
   "execution_count": 1,
   "id": "e2a78034",
   "metadata": {},
   "outputs": [],
   "source": [
    "import numpy as np\n",
    "import pandas as pd\n",
    "import math\n",
    "import matplotlib.pyplot as plt\n",
    "from sklearn.linear_model import LogisticRegression\n",
    "from sklearn.model_selection import train_test_split"
   ]
  },
  {
   "cell_type": "code",
   "execution_count": 2,
   "id": "cac18196",
   "metadata": {},
   "outputs": [
    {
     "name": "stdout",
     "output_type": "stream",
     "text": [
      "       V1    V2       V3    V4\n",
      "0     2.0  50.0  12500.0  98.0\n",
      "1     0.0  13.0   3250.0  28.0\n",
      "2     1.0  16.0   4000.0  35.0\n",
      "3     2.0  20.0   5000.0  45.0\n",
      "4     1.0  24.0   6000.0  77.0\n",
      "..    ...   ...      ...   ...\n",
      "743  23.0   2.0    500.0  38.0\n",
      "744  21.0   2.0    500.0  52.0\n",
      "745  23.0   3.0    750.0  62.0\n",
      "746  39.0   1.0    250.0  39.0\n",
      "747  72.0   1.0    250.0  72.0\n",
      "\n",
      "[748 rows x 4 columns]\n"
     ]
    }
   ],
   "source": [
    "from sklearn.datasets import fetch_openml\n",
    "X,y = fetch_openml('blood-transfusion-service-center', version=1,return_X_y=True)\n",
    "\n",
    "print(X)"
   ]
  },
  {
   "cell_type": "code",
   "execution_count": 3,
   "id": "ef616a68",
   "metadata": {},
   "outputs": [],
   "source": [
    "#handling the missing values:\n",
    "from sklearn.impute import SimpleImputer\n",
    "imputer = SimpleImputer(missing_values=np.nan, strategy='mean')\n",
    "imputer.fit(X)\n",
    "X=imputer.transform(X)"
   ]
  },
  {
   "cell_type": "code",
   "execution_count": 4,
   "id": "73ef854f",
   "metadata": {},
   "outputs": [
    {
     "name": "stdout",
     "output_type": "stream",
     "text": [
      "0.7486631016042781\n"
     ]
    }
   ],
   "source": [
    "X_train,X_test,y_train,y_test=train_test_split(X,y)  #original version of dataset\n",
    "model = LogisticRegression()\n",
    "model.fit(X_train, y_train)\n",
    "print(model.score(X_test, y_test))"
   ]
  },
  {
   "cell_type": "code",
   "execution_count": 5,
   "id": "3384c1bc",
   "metadata": {},
   "outputs": [],
   "source": [
    "#in logistic regression, I want to catch a linear relation between features and my target.\n",
    "#so I try to normalize? the values with square root function.\n",
    "df=pd.DataFrame(X)\n",
    "\n",
    "V1list = df[0].values\n",
    "for i in range(len(V1list)): V1list[i] = math.sqrt(V1list[i])\n",
    "\n",
    "V2list = df[1].values\n",
    "for i in range(len(V2list)): V2list[i] = math.sqrt(V2list[i])\n",
    "    \n",
    "V3list = df[2].values\n",
    "for i in range(len(V3list)): V3list[i] = math.sqrt(V3list[i])\n",
    "\n",
    "V4list = df[3].values\n",
    "for i in range(len(V4list)): V4list[i] = math.sqrt(V4list[i])"
   ]
  },
  {
   "cell_type": "code",
   "execution_count": 6,
   "id": "ff25c703",
   "metadata": {},
   "outputs": [
    {
     "name": "stdout",
     "output_type": "stream",
     "text": [
      "0.7647058823529411\n"
     ]
    }
   ],
   "source": [
    "X_train,X_test,y_train,y_test=train_test_split(df,y) #after 'the square root' operation\n",
    "model = LogisticRegression()\n",
    "model.fit(X_train, y_train)\n",
    "print(model.score(X_test, y_test))"
   ]
  },
  {
   "cell_type": "code",
   "execution_count": 7,
   "id": "e88cd95e",
   "metadata": {},
   "outputs": [
    {
     "name": "stdout",
     "output_type": "stream",
     "text": [
      "[2]\n"
     ]
    },
    {
     "name": "stderr",
     "output_type": "stream",
     "text": [
      "C:\\Users\\suhey\\AppData\\Local\\Temp\\ipykernel_6884\\3143224912.py:2: DeprecationWarning: `np.bool` is a deprecated alias for the builtin `bool`. To silence this warning, use `bool` by itself. Doing this will not modify any behavior and is safe. If you specifically wanted the numpy scalar type, use `np.bool_` here.\n",
      "Deprecated in NumPy 1.20; for more details and guidance: https://numpy.org/devdocs/release/1.20.0-notes.html#deprecations\n",
      "  upper_tri = cor_matrix.where(np.triu(np.ones(cor_matrix.shape),k=1).astype(np.bool))\n"
     ]
    }
   ],
   "source": [
    "cor_matrix = df.corr().abs()\n",
    "upper_tri = cor_matrix.where(np.triu(np.ones(cor_matrix.shape),k=1).astype(np.bool))\n",
    "to_drop = [column for column in upper_tri.columns if any(upper_tri[column] > 0.95)]\n",
    "print(to_drop)"
   ]
  },
  {
   "cell_type": "code",
   "execution_count": 8,
   "id": "a5ed3401",
   "metadata": {},
   "outputs": [
    {
     "name": "stdout",
     "output_type": "stream",
     "text": [
      "            0         1         3\n",
      "0    1.414214  7.071068  9.899495\n",
      "1    0.000000  3.605551  5.291503\n",
      "2    1.000000  4.000000  5.916080\n",
      "3    1.414214  4.472136  6.708204\n",
      "4    1.000000  4.898979  8.774964\n",
      "..        ...       ...       ...\n",
      "743  4.795832  1.414214  6.164414\n",
      "744  4.582576  1.414214  7.211103\n",
      "745  4.795832  1.732051  7.874008\n",
      "746  6.244998  1.000000  6.244998\n",
      "747  8.485281  1.000000  8.485281\n",
      "\n",
      "[748 rows x 3 columns]\n"
     ]
    }
   ],
   "source": [
    "df1 = df.drop(df.columns[to_drop], axis=1)\n",
    "print(df1)"
   ]
  },
  {
   "cell_type": "code",
   "execution_count": 9,
   "id": "87ceb380",
   "metadata": {},
   "outputs": [
    {
     "name": "stdout",
     "output_type": "stream",
     "text": [
      "0.7700534759358288\n"
     ]
    }
   ],
   "source": [
    "X_train,X_test,y_train,y_test=train_test_split(df1,y)  #after dropping correlated features\n",
    "model = LogisticRegression()\n",
    "model.fit(X_train, y_train)\n",
    "print(model.score(X_test, y_test))"
   ]
  },
  {
   "cell_type": "code",
   "execution_count": 10,
   "id": "4c06d881",
   "metadata": {},
   "outputs": [],
   "source": [
    "#first I handled the missing values\n",
    "#Then I tried to make a more linear relation between features and the target\n",
    "#Last, I dropped the correlated features"
   ]
  }
 ],
 "metadata": {
  "kernelspec": {
   "display_name": "Python 3 (ipykernel)",
   "language": "python",
   "name": "python3"
  },
  "language_info": {
   "codemirror_mode": {
    "name": "ipython",
    "version": 3
   },
   "file_extension": ".py",
   "mimetype": "text/x-python",
   "name": "python",
   "nbconvert_exporter": "python",
   "pygments_lexer": "ipython3",
   "version": "3.9.13"
  }
 },
 "nbformat": 4,
 "nbformat_minor": 5
}
