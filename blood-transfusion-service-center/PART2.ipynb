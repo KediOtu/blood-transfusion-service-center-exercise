{
 "cells": [
  {
   "cell_type": "code",
   "execution_count": 1,
   "id": "139bbf70",
   "metadata": {},
   "outputs": [],
   "source": [
    "import numpy as np\n",
    "import pandas as pd\n",
    "import matplotlib.pyplot as plt\n",
    "from sklearn.linear_model import LogisticRegression\n",
    "from sklearn.model_selection import train_test_split"
   ]
  },
  {
   "cell_type": "code",
   "execution_count": 2,
   "id": "5dda4803",
   "metadata": {},
   "outputs": [],
   "source": [
    "from sklearn.datasets import fetch_openml\n",
    "X,y = fetch_openml('blood-transfusion-service-center', version=1,return_X_y=True)"
   ]
  },
  {
   "cell_type": "code",
   "execution_count": 10,
   "id": "59312163",
   "metadata": {},
   "outputs": [
    {
     "data": {
      "text/plain": [
       "array([[2.00e+00, 5.00e+01, 1.25e+04, 9.80e+01],\n",
       "       [0.00e+00, 1.30e+01, 3.25e+03, 2.80e+01],\n",
       "       [1.00e+00, 1.60e+01, 4.00e+03, 3.50e+01],\n",
       "       ...,\n",
       "       [2.30e+01, 3.00e+00, 7.50e+02, 6.20e+01],\n",
       "       [3.90e+01, 1.00e+00, 2.50e+02, 3.90e+01],\n",
       "       [7.20e+01, 1.00e+00, 2.50e+02, 7.20e+01]])"
      ]
     },
     "execution_count": 10,
     "metadata": {},
     "output_type": "execute_result"
    }
   ],
   "source": [
    "X.values #These are independent values"
   ]
  },
  {
   "cell_type": "code",
   "execution_count": 12,
   "id": "b20d6e44",
   "metadata": {},
   "outputs": [
    {
     "data": {
      "text/plain": [
       "['2', '2', '2', '2', '1', ..., '1', '1', '1', '1', '1']\n",
       "Length: 748\n",
       "Categories (2, object): ['1', '2']"
      ]
     },
     "execution_count": 12,
     "metadata": {},
     "output_type": "execute_result"
    }
   ],
   "source": [
    "y.values #And these are dependent values."
   ]
  },
  {
   "cell_type": "code",
   "execution_count": 11,
   "id": "02752687",
   "metadata": {},
   "outputs": [
    {
     "data": {
      "text/plain": [
       "array([[2.00e+00, 5.00e+01, 1.25e+04, 9.80e+01],\n",
       "       [0.00e+00, 1.30e+01, 3.25e+03, 2.80e+01],\n",
       "       [1.00e+00, 1.60e+01, 4.00e+03, 3.50e+01],\n",
       "       ...,\n",
       "       [2.30e+01, 3.00e+00, 7.50e+02, 6.20e+01],\n",
       "       [3.90e+01, 1.00e+00, 2.50e+02, 3.90e+01],\n",
       "       [7.20e+01, 1.00e+00, 2.50e+02, 7.20e+01]])"
      ]
     },
     "execution_count": 11,
     "metadata": {},
     "output_type": "execute_result"
    }
   ],
   "source": [
    "#Now I try to find if there is any missing values and if there is then I want to handle it.\n",
    "from sklearn.impute import SimpleImputer\n",
    "imputer = SimpleImputer(missing_values=np.nan, strategy='mean')\n",
    "imputer.fit(X)\n",
    "X=imputer.transform(X)\n",
    "X"
   ]
  },
  {
   "cell_type": "code",
   "execution_count": 13,
   "id": "46dc6e8d",
   "metadata": {},
   "outputs": [
    {
     "name": "stdout",
     "output_type": "stream",
     "text": [
      "0.7967914438502673\n"
     ]
    }
   ],
   "source": [
    "X_train,X_test,y_train,y_test=train_test_split(X,y)\n",
    "model = LogisticRegression()\n",
    "model.fit(X_train, y_train)\n",
    "print(model.score(X_test, y_test))"
   ]
  },
  {
   "cell_type": "code",
   "execution_count": 14,
   "id": "349f8d36",
   "metadata": {},
   "outputs": [],
   "source": [
    "#The score is better than the previous one. Because previously, I did not find missing values and did not handle them. \n",
    "#This shows the importance of preprocessing.\n",
    "#But it is not over here!"
   ]
  },
  {
   "cell_type": "code",
   "execution_count": 18,
   "id": "cb637c79",
   "metadata": {},
   "outputs": [
    {
     "name": "stdout",
     "output_type": "stream",
     "text": [
      "0.7754010695187166\n"
     ]
    }
   ],
   "source": [
    "# About the code below,: I guess it fixing the values which are out of array/bound? I want to try it, so wrote it.\n",
    "#But I will search for it. After learning I will write about it.\n",
    "from sklearn.preprocessing import StandardScaler\n",
    "sc_x = StandardScaler()\n",
    "X_train = sc_x.fit_transform(X_train)\n",
    "X_test = sc_x.fit_transform(X_test)\n",
    "\n",
    "model.fit(X_train, y_train)\n",
    "print(model.score(X_test, y_test))"
   ]
  },
  {
   "cell_type": "code",
   "execution_count": null,
   "id": "38581a07",
   "metadata": {},
   "outputs": [],
   "source": [
    "# After the last process, score got worse. I think I should not do it for this dataset."
   ]
  }
 ],
 "metadata": {
  "kernelspec": {
   "display_name": "Python 3 (ipykernel)",
   "language": "python",
   "name": "python3"
  },
  "language_info": {
   "codemirror_mode": {
    "name": "ipython",
    "version": 3
   },
   "file_extension": ".py",
   "mimetype": "text/x-python",
   "name": "python",
   "nbconvert_exporter": "python",
   "pygments_lexer": "ipython3",
   "version": "3.9.13"
  }
 },
 "nbformat": 4,
 "nbformat_minor": 5
}
