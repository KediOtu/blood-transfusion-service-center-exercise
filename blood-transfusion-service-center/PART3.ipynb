{
 "cells": [
  {
   "cell_type": "code",
   "execution_count": 1,
   "id": "f992457c",
   "metadata": {},
   "outputs": [],
   "source": [
    "import numpy as np\n",
    "import pandas as pd\n",
    "import math\n",
    "import matplotlib.pyplot as plt\n",
    "from sklearn.linear_model import LogisticRegression\n",
    "from sklearn.model_selection import train_test_split"
   ]
  },
  {
   "cell_type": "code",
   "execution_count": 2,
   "id": "c6a130af",
   "metadata": {},
   "outputs": [
    {
     "name": "stdout",
     "output_type": "stream",
     "text": [
      "       V1    V2       V3    V4\n",
      "0     2.0  50.0  12500.0  98.0\n",
      "1     0.0  13.0   3250.0  28.0\n",
      "2     1.0  16.0   4000.0  35.0\n",
      "3     2.0  20.0   5000.0  45.0\n",
      "4     1.0  24.0   6000.0  77.0\n",
      "..    ...   ...      ...   ...\n",
      "743  23.0   2.0    500.0  38.0\n",
      "744  21.0   2.0    500.0  52.0\n",
      "745  23.0   3.0    750.0  62.0\n",
      "746  39.0   1.0    250.0  39.0\n",
      "747  72.0   1.0    250.0  72.0\n",
      "\n",
      "[748 rows x 4 columns]\n"
     ]
    }
   ],
   "source": [
    "from sklearn.datasets import fetch_openml\n",
    "X,y = fetch_openml('blood-transfusion-service-center', version=1,return_X_y=True)\n",
    "print(X)"
   ]
  },
  {
   "cell_type": "code",
   "execution_count": 3,
   "id": "862d4d36",
   "metadata": {},
   "outputs": [
    {
     "name": "stdout",
     "output_type": "stream",
     "text": [
      "    V1    V2       V3    V4\n",
      "0  2.0  50.0  12500.0  98.0\n",
      "1  0.0  13.0   3250.0  28.0\n",
      "2  1.0  16.0   4000.0  35.0\n",
      "3  2.0  20.0   5000.0  45.0\n",
      "4  1.0  24.0   6000.0  77.0\n",
      "          V1        V2        V3        V4\n",
      "V1  1.000000  0.182745  0.182745  0.160618\n",
      "V2  0.182745  1.000000  1.000000  0.634940\n",
      "V3  0.182745  1.000000  1.000000  0.634940\n",
      "V4  0.160618  0.634940  0.634940  1.000000\n"
     ]
    }
   ],
   "source": [
    "#I try to drop correleted features\n",
    "\n",
    "df = pd.DataFrame(X)\n",
    "print(df.head())\n",
    "cor_matrix = df.corr().abs()\n",
    "print(cor_matrix)"
   ]
  },
  {
   "cell_type": "code",
   "execution_count": 4,
   "id": "644c4b1d",
   "metadata": {},
   "outputs": [
    {
     "name": "stdout",
     "output_type": "stream",
     "text": [
      "    V1        V2        V3        V4\n",
      "V1 NaN  0.182745  0.182745  0.160618\n",
      "V2 NaN       NaN  1.000000  0.634940\n",
      "V3 NaN       NaN       NaN  0.634940\n",
      "V4 NaN       NaN       NaN       NaN\n"
     ]
    },
    {
     "name": "stderr",
     "output_type": "stream",
     "text": [
      "C:\\Users\\suhey\\AppData\\Local\\Temp\\ipykernel_2376\\3477284062.py:1: DeprecationWarning: `np.bool` is a deprecated alias for the builtin `bool`. To silence this warning, use `bool` by itself. Doing this will not modify any behavior and is safe. If you specifically wanted the numpy scalar type, use `np.bool_` here.\n",
      "Deprecated in NumPy 1.20; for more details and guidance: https://numpy.org/devdocs/release/1.20.0-notes.html#deprecations\n",
      "  upper_tri = cor_matrix.where(np.triu(np.ones(cor_matrix.shape),k=1).astype(np.bool))\n"
     ]
    }
   ],
   "source": [
    "upper_tri = cor_matrix.where(np.triu(np.ones(cor_matrix.shape),k=1).astype(np.bool))\n",
    "print(upper_tri)"
   ]
  },
  {
   "cell_type": "code",
   "execution_count": 5,
   "id": "9babba8d",
   "metadata": {},
   "outputs": [
    {
     "name": "stdout",
     "output_type": "stream",
     "text": [
      "\n",
      "['V3']\n"
     ]
    }
   ],
   "source": [
    "to_drop = [column for column in upper_tri.columns if any(upper_tri[column] > 0.95)]\n",
    "print(); print(to_drop) #we have found the column that we need to drop because of correlated elements"
   ]
  },
  {
   "cell_type": "code",
   "execution_count": 6,
   "id": "5931689f",
   "metadata": {},
   "outputs": [],
   "source": [
    "df1 = df[['V1','V2','V4']]"
   ]
  },
  {
   "cell_type": "code",
   "execution_count": 7,
   "id": "3679ce48",
   "metadata": {},
   "outputs": [
    {
     "name": "stdout",
     "output_type": "stream",
     "text": [
      "0.786096256684492\n"
     ]
    }
   ],
   "source": [
    "X_train,X_test,y_train,y_test=train_test_split(df1,y) #here, dataset after dropping correlated feature\n",
    "model = LogisticRegression()\n",
    "model.fit(X_train, y_train)\n",
    "print(model.score(X_test, y_test))"
   ]
  },
  {
   "cell_type": "code",
   "execution_count": 8,
   "id": "4d8fd544",
   "metadata": {},
   "outputs": [
    {
     "name": "stdout",
     "output_type": "stream",
     "text": [
      "0.7647058823529411\n"
     ]
    }
   ],
   "source": [
    "X_train,X_test,y_train,y_test=train_test_split(df,y) #here, original version of dataset\n",
    "model = LogisticRegression()\n",
    "model.fit(X_train, y_train)\n",
    "print(model.score(X_test, y_test))"
   ]
  },
  {
   "cell_type": "code",
   "execution_count": null,
   "id": "8fae6037",
   "metadata": {},
   "outputs": [],
   "source": [
    "#The score increased after dropping the correlated features."
   ]
  }
 ],
 "metadata": {
  "kernelspec": {
   "display_name": "Python 3 (ipykernel)",
   "language": "python",
   "name": "python3"
  },
  "language_info": {
   "codemirror_mode": {
    "name": "ipython",
    "version": 3
   },
   "file_extension": ".py",
   "mimetype": "text/x-python",
   "name": "python",
   "nbconvert_exporter": "python",
   "pygments_lexer": "ipython3",
   "version": "3.9.13"
  }
 },
 "nbformat": 4,
 "nbformat_minor": 5
}
